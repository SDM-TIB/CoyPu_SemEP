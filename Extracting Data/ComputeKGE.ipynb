{
 "cells": [
  {
   "cell_type": "code",
   "execution_count": 1,
   "id": "66558b5d",
   "metadata": {},
   "outputs": [],
   "source": [
    "import pandas as pd\n",
    "import numpy as np\n",
    "import matplotlib.pyplot as plt\n",
    "import Utility"
   ]
  },
  {
   "cell_type": "markdown",
   "id": "6f857c7d",
   "metadata": {},
   "source": [
    "### Load dataset"
   ]
  },
  {
   "cell_type": "code",
   "execution_count": 2,
   "id": "0ed209d5",
   "metadata": {},
   "outputs": [],
   "source": [
    "tf_data = Utility.load_dataset('dataset/','network_02.csv')"
   ]
  },
  {
   "cell_type": "markdown",
   "id": "a1d4dac8",
   "metadata": {},
   "source": [
    "### Split dataset in training and test set"
   ]
  },
  {
   "cell_type": "code",
   "execution_count": 3,
   "id": "9848a147",
   "metadata": {},
   "outputs": [
    {
     "name": "stdout",
     "output_type": "stream",
     "text": [
      "TriplesFactory(num_entities=2497891, num_relations=20, create_inverse_triples=False, num_triples=4709183) TriplesFactory(num_entities=2497891, num_relations=20, create_inverse_triples=False, num_triples=1177296)\n"
     ]
    }
   ],
   "source": [
    "training, testing = tf_data.split(random_state=1234)\n",
    "print(training, testing)"
   ]
  },
  {
   "cell_type": "markdown",
   "id": "2fdd33b8",
   "metadata": {},
   "source": [
    "### Build Knowledge Graph Embedding Model"
   ]
  },
  {
   "cell_type": "code",
   "execution_count": 4,
   "id": "0654213a",
   "metadata": {},
   "outputs": [
    {
     "data": {
      "text/html": [
       "<table>\n",
       "<thead>\n",
       "<tr><th>Key            </th><th>Value                   </th></tr>\n",
       "</thead>\n",
       "<tbody>\n",
       "<tr><td>OS             </td><td>posix                   </td></tr>\n",
       "<tr><td>Platform       </td><td>Linux                   </td></tr>\n",
       "<tr><td>Release        </td><td>4.15.0-159-generic      </td></tr>\n",
       "<tr><td>Time           </td><td>Thu Mar 30 09:13:10 2023</td></tr>\n",
       "<tr><td>Python         </td><td>3.8.13                  </td></tr>\n",
       "<tr><td>PyKEEN         </td><td>1.10.2-dev              </td></tr>\n",
       "<tr><td>PyKEEN Hash    </td><td>UNHASHED                </td></tr>\n",
       "<tr><td>PyKEEN Branch  </td><td>                        </td></tr>\n",
       "<tr><td>PyTorch        </td><td>2.0.0+cu117             </td></tr>\n",
       "<tr><td>CUDA Available?</td><td>true                    </td></tr>\n",
       "<tr><td>CUDA Version   </td><td>11.7                    </td></tr>\n",
       "<tr><td>cuDNN Version  </td><td>8500                    </td></tr>\n",
       "</tbody>\n",
       "</table>"
      ],
      "text/plain": [
       "<IPython.core.display.HTML object>"
      ]
     },
     "execution_count": 4,
     "metadata": {},
     "output_type": "execute_result"
    }
   ],
   "source": [
    "import pykeen\n",
    "pykeen.env()"
   ]
  },
  {
   "cell_type": "code",
   "execution_count": 35,
   "id": "9c1d4482",
   "metadata": {},
   "outputs": [],
   "source": [
    "from pykeen.pipeline import pipeline\n",
    "def create_model(tf_training, tf_testing, embedding, n_epoch, path):\n",
    "    results = pipeline(\n",
    "        training=tf_training,\n",
    "        testing=tf_testing,\n",
    "        model=embedding,\n",
    "#         model_kwargs=dict(embedding_dim=2),\n",
    "        training_loop='sLCWA',\n",
    "        #         negative_sampler='bernoulli',\n",
    "        negative_sampler_kwargs=dict(\n",
    "            filtered=True,\n",
    "        ),\n",
    "        # Training configuration\n",
    "        evaluation_kwargs=dict(batch_size=4),\n",
    "        training_kwargs=dict(\n",
    "            num_epochs=n_epoch,\n",
    "            use_tqdm_batch=False,\n",
    "            batch_size=4,\n",
    "        ),\n",
    "        # Runtime configuration\n",
    "        random_seed=1235,\n",
    "        device='gpu',\n",
    "    )\n",
    "    model = results.model\n",
    "    results.save_to_directory(path + embedding)\n",
    "    return model, results"
   ]
  },
  {
   "cell_type": "code",
   "execution_count": 5,
   "id": "4436f7de",
   "metadata": {},
   "outputs": [
    {
     "name": "stderr",
     "output_type": "stream",
     "text": [
      "/usr/bin/nvidia-modprobe: unrecognized option: \"-s\"\n",
      "\n",
      "ERROR: Invalid commandline, please run `/usr/bin/nvidia-modprobe --help` for usage information.\n",
      "\n",
      "\n",
      "/usr/bin/nvidia-modprobe: unrecognized option: \"-s\"\n",
      "\n",
      "ERROR: Invalid commandline, please run `/usr/bin/nvidia-modprobe --help` for usage information.\n",
      "\n",
      "\n"
     ]
    },
    {
     "data": {
      "application/vnd.jupyter.widget-view+json": {
       "model_id": "ac24b07caf214cba83e461cee1b8122c",
       "version_major": 2,
       "version_minor": 0
      },
      "text/plain": [
       "Training epochs on cuda:0:   0%|          | 0/50 [00:00<?, ?epoch/s]"
      ]
     },
     "metadata": {},
     "output_type": "display_data"
    },
    {
     "name": "stderr",
     "output_type": "stream",
     "text": [
      "INFO:pykeen.evaluation.evaluator:Starting batch_size search for evaluation now...\n",
      "INFO:pykeen.evaluation.evaluator:Concluded batch_size search with batch_size=8.\n"
     ]
    },
    {
     "data": {
      "application/vnd.jupyter.widget-view+json": {
       "model_id": "bc39d0cf834d43c78950e97c2d6f5a43",
       "version_major": 2,
       "version_minor": 0
      },
      "text/plain": [
       "Evaluating on cuda:0:   0%|          | 0.00/1.18M [00:00<?, ?triple/s]"
      ]
     },
     "metadata": {},
     "output_type": "display_data"
    },
    {
     "name": "stderr",
     "output_type": "stream",
     "text": [
      "INFO:pykeen.evaluation.evaluator:Evaluation took 34633.21s seconds\n",
      "INFO:pykeen.triples.triples_factory:Stored TriplesFactory(num_entities=2497891, num_relations=20, create_inverse_triples=False, num_triples=4709183) to file:///media/rivas/Data1/Projects/CoyPU/CoyPu_SemEP/Extracting%20Data/dataset/DistMult/training_triples\n",
      "INFO:pykeen.pipeline.api:Saved to directory: /media/rivas/Data1/Projects/CoyPU/CoyPu_SemEP/Extracting Data/dataset/DistMult\n"
     ]
    }
   ],
   "source": [
    "model, results = Utility.create_model(training, testing, 'DistMult', 50, 'dataset/')"
   ]
  },
  {
   "cell_type": "code",
   "execution_count": 7,
   "id": "0ca0823c",
   "metadata": {},
   "outputs": [
    {
     "data": {
      "image/png": "[encoded data removed]",
      "text/plain": [
       "<Figure size 432x288 with 1 Axes>"
      ]
     },
     "metadata": {},
     "output_type": "display_data"
    }
   ],
   "source": [
    "results.plot_losses()\n",
    "plt.show()"
   ]
  },
  {
   "cell_type": "code",
   "execution_count": 8,
   "id": "b50d6858",
   "metadata": {},
   "outputs": [
    {
     "name": "stderr",
     "output_type": "stream",
     "text": [
      "INFO:pykeen.pipeline.api:Using device: gpu\n"
     ]
    },
    {
     "data": {
      "application/vnd.jupyter.widget-view+json": {
       "model_id": "a764da1af33046689fd379a166c7d78f",
       "version_major": 2,
       "version_minor": 0
      },
      "text/plain": [
       "Training epochs on cuda:0:   0%|          | 0/50 [00:00<?, ?epoch/s]"
      ]
     },
     "metadata": {},
     "output_type": "display_data"
    },
    {
     "name": "stderr",
     "output_type": "stream",
     "text": [
      "INFO:pykeen.evaluation.evaluator:Starting batch_size search for evaluation now...\n",
      "INFO:pykeen.evaluation.evaluator:Concluded batch_size search with batch_size=4.\n"
     ]
    },
    {
     "data": {
      "application/vnd.jupyter.widget-view+json": {
       "model_id": "06b2410bf8db469cb911fc26ea522b64",
       "version_major": 2,
       "version_minor": 0
      },
      "text/plain": [
       "Evaluating on cuda:0:   0%|          | 0.00/1.18M [00:00<?, ?triple/s]"
      ]
     },
     "metadata": {},
     "output_type": "display_data"
    },
    {
     "name": "stderr",
     "output_type": "stream",
     "text": [
      "INFO:pykeen.evaluation.evaluator:Evaluation took 35590.72s seconds\n",
      "INFO:pykeen.triples.triples_factory:Stored TriplesFactory(num_entities=2497891, num_relations=20, create_inverse_triples=False, num_triples=4709183) to file:///media/rivas/Data1/Projects/CoyPU/CoyPu_SemEP/Extracting%20Data/dataset/TransE/training_triples\n",
      "INFO:pykeen.pipeline.api:Saved to directory: /media/rivas/Data1/Projects/CoyPU/CoyPu_SemEP/Extracting Data/dataset/TransE\n"
     ]
    }
   ],
   "source": [
    "model, results = Utility.create_model(training, testing, 'TransE', 50, 'dataset/')"
   ]
  },
  {
   "cell_type": "code",
   "execution_count": 9,
   "id": "b49ad210",
   "metadata": {},
   "outputs": [
    {
     "data": {
      "image/png": "[encoded data removed]",
      "text/plain": [
       "<Figure size 432x288 with 1 Axes>"
      ]
     },
     "metadata": {},
     "output_type": "display_data"
    }
   ],
   "source": [
    "results.plot_losses()\n",
    "plt.show()"
   ]
  },
  {
   "cell_type": "code",
   "execution_count": 5,
   "id": "1011bcf5",
   "metadata": {},
   "outputs": [
    {
     "name": "stderr",
     "output_type": "stream",
     "text": [
      "/usr/bin/nvidia-modprobe: unrecognized option: \"-s\"\n",
      "\n",
      "ERROR: Invalid commandline, please run `/usr/bin/nvidia-modprobe --help` for usage information.\n",
      "\n",
      "\n",
      "/usr/bin/nvidia-modprobe: unrecognized option: \"-s\"\n",
      "\n",
      "ERROR: Invalid commandline, please run `/usr/bin/nvidia-modprobe --help` for usage information.\n",
      "\n",
      "\n"
     ]
    },
    {
     "data": {
      "application/vnd.jupyter.widget-view+json": {
       "model_id": "b5dbc11cac49464a89da02ec81bc92e2",
       "version_major": 2,
       "version_minor": 0
      },
      "text/plain": [
       "Training epochs on cuda:0:   0%|          | 0/50 [00:00<?, ?epoch/s]"
      ]
     },
     "metadata": {},
     "output_type": "display_data"
    },
    {
     "name": "stderr",
     "output_type": "stream",
     "text": [
      "INFO:pykeen.evaluation.evaluator:Starting batch_size search for evaluation now...\n",
      "INFO:pykeen.evaluation.evaluator:Concluded batch_size search with batch_size=2.\n"
     ]
    },
    {
     "data": {
      "application/vnd.jupyter.widget-view+json": {
       "model_id": "a14207febe8b40cd83d947eafd4159aa",
       "version_major": 2,
       "version_minor": 0
      },
      "text/plain": [
       "Evaluating on cuda:0:   0%|          | 0.00/1.18M [00:00<?, ?triple/s]"
      ]
     },
     "metadata": {},
     "output_type": "display_data"
    },
    {
     "name": "stderr",
     "output_type": "stream",
     "text": [
      "INFO:pykeen.evaluation.evaluator:Evaluation took 71024.79s seconds\n",
      "INFO:pykeen.triples.triples_factory:Stored TriplesFactory(num_entities=2497891, num_relations=20, create_inverse_triples=False, num_triples=4709183) to file:///media/rivas/Data1/Projects/CoyPU/CoyPu_SemEP/Extracting%20Data/dataset/TransH/training_triples\n",
      "INFO:pykeen.pipeline.api:Saved to directory: /media/rivas/Data1/Projects/CoyPU/CoyPu_SemEP/Extracting Data/dataset/TransH\n"
     ]
    }
   ],
   "source": [
    "model, results = Utility.create_model(training, testing, 'TransH', 50, 'dataset/')"
   ]
  },
  {
   "cell_type": "code",
   "execution_count": 6,
   "id": "461d3ad5",
   "metadata": {},
   "outputs": [
    {
     "data": {
      "image/png": "[encoded data removed]",
      "text/plain": [
       "<Figure size 432x288 with 1 Axes>"
      ]
     },
     "metadata": {},
     "output_type": "display_data"
    }
   ],
   "source": [
    "results.plot_losses()\n",
    "plt.show()"
   ]
  },
  {
   "cell_type": "code",
   "execution_count": 7,
   "id": "fd3953df",
   "metadata": {},
   "outputs": [
    {
     "data": {
      "text/html": [
       "<div>\n",
       "<style scoped>\n",
       "    .dataframe tbody tr th:only-of-type {\n",
       "        vertical-align: middle;\n",
       "    }\n",
       "\n",
       "    .dataframe tbody tr th {\n",
       "        vertical-align: top;\n",
       "    }\n",
       "\n",
       "    .dataframe thead th {\n",
       "        text-align: right;\n",
       "    }\n",
       "</style>\n",
       "<table border=\"1\" class=\"dataframe\">\n",
       "  <thead>\n",
       "    <tr style=\"text-align: right;\">\n",
       "      <th></th>\n",
       "      <th>Side</th>\n",
       "      <th>Type</th>\n",
       "      <th>Metric</th>\n",
       "      <th>Value</th>\n",
       "    </tr>\n",
       "  </thead>\n",
       "  <tbody>\n",
       "    <tr>\n",
       "      <th>0</th>\n",
       "      <td>head</td>\n",
       "      <td>optimistic</td>\n",
       "      <td>inverse_arithmetic_mean_rank</td>\n",
       "      <td>0.000007</td>\n",
       "    </tr>\n",
       "    <tr>\n",
       "      <th>1</th>\n",
       "      <td>tail</td>\n",
       "      <td>optimistic</td>\n",
       "      <td>inverse_arithmetic_mean_rank</td>\n",
       "      <td>0.000505</td>\n",
       "    </tr>\n",
       "    <tr>\n",
       "      <th>2</th>\n",
       "      <td>both</td>\n",
       "      <td>optimistic</td>\n",
       "      <td>inverse_arithmetic_mean_rank</td>\n",
       "      <td>0.000013</td>\n",
       "    </tr>\n",
       "    <tr>\n",
       "      <th>3</th>\n",
       "      <td>head</td>\n",
       "      <td>realistic</td>\n",
       "      <td>inverse_arithmetic_mean_rank</td>\n",
       "      <td>0.000007</td>\n",
       "    </tr>\n",
       "    <tr>\n",
       "      <th>4</th>\n",
       "      <td>tail</td>\n",
       "      <td>realistic</td>\n",
       "      <td>inverse_arithmetic_mean_rank</td>\n",
       "      <td>0.000505</td>\n",
       "    </tr>\n",
       "    <tr>\n",
       "      <th>...</th>\n",
       "      <td>...</td>\n",
       "      <td>...</td>\n",
       "      <td>...</td>\n",
       "      <td>...</td>\n",
       "    </tr>\n",
       "    <tr>\n",
       "      <th>220</th>\n",
       "      <td>tail</td>\n",
       "      <td>realistic</td>\n",
       "      <td>adjusted_hits_at_k</td>\n",
       "      <td>0.727820</td>\n",
       "    </tr>\n",
       "    <tr>\n",
       "      <th>221</th>\n",
       "      <td>both</td>\n",
       "      <td>realistic</td>\n",
       "      <td>adjusted_hits_at_k</td>\n",
       "      <td>0.366985</td>\n",
       "    </tr>\n",
       "    <tr>\n",
       "      <th>222</th>\n",
       "      <td>head</td>\n",
       "      <td>pessimistic</td>\n",
       "      <td>adjusted_hits_at_k</td>\n",
       "      <td>0.006143</td>\n",
       "    </tr>\n",
       "    <tr>\n",
       "      <th>223</th>\n",
       "      <td>tail</td>\n",
       "      <td>pessimistic</td>\n",
       "      <td>adjusted_hits_at_k</td>\n",
       "      <td>0.727820</td>\n",
       "    </tr>\n",
       "    <tr>\n",
       "      <th>224</th>\n",
       "      <td>both</td>\n",
       "      <td>pessimistic</td>\n",
       "      <td>adjusted_hits_at_k</td>\n",
       "      <td>0.366985</td>\n",
       "    </tr>\n",
       "  </tbody>\n",
       "</table>\n",
       "<p>225 rows × 4 columns</p>\n",
       "</div>"
      ],
      "text/plain": [
       "     Side         Type                        Metric     Value\n",
       "0    head   optimistic  inverse_arithmetic_mean_rank  0.000007\n",
       "1    tail   optimistic  inverse_arithmetic_mean_rank  0.000505\n",
       "2    both   optimistic  inverse_arithmetic_mean_rank  0.000013\n",
       "3    head    realistic  inverse_arithmetic_mean_rank  0.000007\n",
       "4    tail    realistic  inverse_arithmetic_mean_rank  0.000505\n",
       "..    ...          ...                           ...       ...\n",
       "220  tail    realistic            adjusted_hits_at_k  0.727820\n",
       "221  both    realistic            adjusted_hits_at_k  0.366985\n",
       "222  head  pessimistic            adjusted_hits_at_k  0.006143\n",
       "223  tail  pessimistic            adjusted_hits_at_k  0.727820\n",
       "224  both  pessimistic            adjusted_hits_at_k  0.366985\n",
       "\n",
       "[225 rows x 4 columns]"
      ]
     },
     "execution_count": 7,
     "metadata": {},
     "output_type": "execute_result"
    }
   ],
   "source": [
    "results.metric_results.to_df()"
   ]
  },
  {
   "cell_type": "code",
   "execution_count": 8,
   "id": "8399218c",
   "metadata": {},
   "outputs": [
    {
     "name": "stderr",
     "output_type": "stream",
     "text": [
      "INFO:pykeen.pipeline.api:Using device: gpu\n"
     ]
    },
    {
     "data": {
      "application/vnd.jupyter.widget-view+json": {
       "model_id": "02b75bee86724d27929c6f98db485609",
       "version_major": 2,
       "version_minor": 0
      },
      "text/plain": [
       "Training epochs on cuda:0:   0%|          | 0/50 [00:00<?, ?epoch/s]"
      ]
     },
     "metadata": {},
     "output_type": "display_data"
    },
    {
     "name": "stderr",
     "output_type": "stream",
     "text": [
      "INFO:pykeen.evaluation.evaluator:Starting batch_size search for evaluation now...\n",
      "INFO:pykeen.evaluation.evaluator:Concluded batch_size search with batch_size=4.\n"
     ]
    },
    {
     "data": {
      "application/vnd.jupyter.widget-view+json": {
       "model_id": "b884be15c7014fa8a50a26f0b8d57cf6",
       "version_major": 2,
       "version_minor": 0
      },
      "text/plain": [
       "Evaluating on cuda:0:   0%|          | 0.00/1.18M [00:00<?, ?triple/s]"
      ]
     },
     "metadata": {},
     "output_type": "display_data"
    },
    {
     "name": "stderr",
     "output_type": "stream",
     "text": [
      "INFO:pykeen.evaluation.evaluator:Evaluation took 49838.88s seconds\n",
      "INFO:pykeen.triples.triples_factory:Stored TriplesFactory(num_entities=2497891, num_relations=20, create_inverse_triples=False, num_triples=4709183) to file:///media/rivas/Data1/Projects/CoyPU/CoyPu_SemEP/Extracting%20Data/dataset/ERMLP/training_triples\n",
      "INFO:pykeen.pipeline.api:Saved to directory: /media/rivas/Data1/Projects/CoyPU/CoyPu_SemEP/Extracting Data/dataset/ERMLP\n"
     ]
    }
   ],
   "source": [
    "model, results = Utility.create_model(training, testing, 'ERMLP', 50, 'dataset/')"
   ]
  },
  {
   "cell_type": "code",
   "execution_count": 9,
   "id": "d6a10f22",
   "metadata": {},
   "outputs": [
    {
     "data": {
      "image/png": "[encoded data removed]",
      "text/plain": [
       "<Figure size 432x288 with 1 Axes>"
      ]
     },
     "metadata": {},
     "output_type": "display_data"
    }
   ],
   "source": [
    "results.plot_losses()\n",
    "plt.show()"
   ]
  },
  {
   "cell_type": "code",
   "execution_count": null,
   "id": "81f695c0",
   "metadata": {},
   "outputs": [
    {
     "name": "stderr",
     "output_type": "stream",
     "text": [
      "INFO:pykeen.pipeline.api:Using device: gpu\n"
     ]
    },
    {
     "data": {
      "application/vnd.jupyter.widget-view+json": {
       "model_id": "28005f71c9a4481f9ed2dc49f28190e2",
       "version_major": 2,
       "version_minor": 0
      },
      "text/plain": [
       "Training epochs on cuda:0:   0%|          | 0/50 [00:00<?, ?epoch/s]"
      ]
     },
     "metadata": {},
     "output_type": "display_data"
    },
    {
     "name": "stderr",
     "output_type": "stream",
     "text": [
      "INFO:pykeen.evaluation.evaluator:Starting batch_size search for evaluation now...\n",
      "INFO:pykeen.evaluation.evaluator:Concluded batch_size search with batch_size=8.\n"
     ]
    },
    {
     "data": {
      "application/vnd.jupyter.widget-view+json": {
       "model_id": "398eb6100fe84156811088ace136e3ca",
       "version_major": 2,
       "version_minor": 0
      },
      "text/plain": [
       "Evaluating on cuda:0:   0%|          | 0.00/1.18M [00:00<?, ?triple/s]"
      ]
     },
     "metadata": {},
     "output_type": "display_data"
    }
   ],
   "source": [
    "model, results = Utility.create_model(training, testing, 'RESCAL', 50, 'dataset/')"
   ]
  },
  {
   "cell_type": "code",
   "execution_count": null,
   "id": "f077976f",
   "metadata": {},
   "outputs": [],
   "source": []
  }
 ],
 "metadata": {
  "kernelspec": {
   "display_name": "Python 3 (ipykernel)",
   "language": "python",
   "name": "python3"
  },
  "language_info": {
   "codemirror_mode": {
    "name": "ipython",
    "version": 3
   },
   "file_extension": ".py",
   "mimetype": "text/x-python",
   "name": "python",
   "nbconvert_exporter": "python",
   "pygments_lexer": "ipython3",
   "version": "3.8.13"
  }
 },
 "nbformat": 4,
 "nbformat_minor": 5
}
